{
  "nbformat": 4,
  "nbformat_minor": 0,
  "metadata": {
    "colab": {
      "name": "Bankbazar Review",
      "provenance": [],
      "collapsed_sections": []
    },
    "kernelspec": {
      "name": "python3",
      "display_name": "Python 3"
    }
  },
  "cells": [
    {
      "cell_type": "markdown",
      "metadata": {
        "id": "MXMBJpjdHZVG"
      },
      "source": [
        "# Importing the Necessary Modules"
      ]
    },
    {
      "cell_type": "code",
      "metadata": {
        "id": "mtXqeM_kHX9p"
      },
      "source": [
        "from bs4 import BeautifulSoup\n",
        "import pandas as pd\n",
        "import numpy as np\n",
        "from wordcloud import STOPWORDS, WordCloud\n",
        "import requests\n",
        "import re\n",
        "import time\n",
        "import pickle"
      ],
      "execution_count": null,
      "outputs": []
    },
    {
      "cell_type": "markdown",
      "metadata": {
        "id": "nmwlbo1CIGck"
      },
      "source": [
        "# Declaring Variables For Crawling"
      ]
    },
    {
      "cell_type": "code",
      "metadata": {
        "id": "rBUOLVmBHmvy"
      },
      "source": [
        "base_addr1 = 'https://www.bankbazaar.com/reviews/'\n",
        "base_addr2 = '/all-products.html?reviewPageNumber='\n",
        "instit_name = []\n",
        "reviews = []\n",
        "ratings = []\n",
        "extra_info = []\n",
        "product = []\n",
        "banks = []"
      ],
      "execution_count": null,
      "outputs": []
    },
    {
      "cell_type": "code",
      "metadata": {
        "id": "Gw2-wdj5WgPT"
      },
      "source": [
        "headers = {'User-Agent': 'Mozilla/5.0 (Windows NT 10.0; Win64; x64; rv:81.0) Gecko/20100101 Firefox/81.0'}"
      ],
      "execution_count": null,
      "outputs": []
    },
    {
      "cell_type": "markdown",
      "metadata": {
        "id": "QpCmeBo0KGiz"
      },
      "source": [
        "**Assigning Institutions**"
      ]
    },
    {
      "cell_type": "code",
      "metadata": {
        "id": "lsWCZg6BKFHO"
      },
      "source": [
        "instit_name = ['ing-vysya-bank','allahabad-bank','idfc-bank','idbi-bank','central-bank-of-india']"
      ],
      "execution_count": null,
      "outputs": []
    },
    {
      "cell_type": "markdown",
      "metadata": {
        "id": "OLkQj2QoL2nG"
      },
      "source": [
        "# Defining Crawler"
      ]
    },
    {
      "cell_type": "code",
      "metadata": {
        "id": "UEOij9bLLtwp"
      },
      "source": [
        "def pagefinder(head_s,search_name):\n",
        "  headers = head_s\n",
        "  url = base_addr1+search_name+base_addr2+'1'\n",
        "  #print (url)\n",
        "  r = requests.get(url, headers=headers)\n",
        "  soup = BeautifulSoup(r.text, 'html.parser')\n",
        "  containers = soup.find_all(attrs={'class':'pagination-review'})\n",
        "  page_s = containers[0].find_all('span')[0].text\n",
        "  l1 = page_s.split()\n",
        "  page_count = int(l1[3])\n",
        "  return page_count"
      ],
      "execution_count": null,
      "outputs": []
    },
    {
      "cell_type": "code",
      "metadata": {
        "id": "80AuMeUIL7G2"
      },
      "source": [
        "def Spider(search_name,page_count):\n",
        "  for N in range(1,page_count):\n",
        "    url = base_addr1 + search_name + base_addr2 + str(N)\n",
        "    r = requests.get(url)\n",
        "    soup = BeautifulSoup(r.text, 'html.parser')\n",
        "    containers = soup.find_all(name='li',attrs={'class':'review-box'})\n",
        "    for container in containers:\n",
        "      product.append(container.find('div',attrs={'class':'review-bank-title'}).text)\n",
        "      reviews.append(container.find(name='div', attrs={'class':'text_here review-desc-more'}).text)\n",
        "      ratings.append(container.find_all('span')[4].text)\n",
        "      extra_info.append(container.find('div',attrs={'class':'reviewer-profile'}).text)\n",
        "      banks.append(search_name)\n",
        "    time.sleep(4)"
      ],
      "execution_count": null,
      "outputs": []
    },
    {
      "cell_type": "markdown",
      "metadata": {
        "id": "HOlc90cZnj3f"
      },
      "source": [
        "# Building the Reviews Dataset"
      ]
    },
    {
      "cell_type": "code",
      "metadata": {
        "id": "G6xV2RzJOb89"
      },
      "source": [
        "for bank_name in instit_name:\n",
        "  page_count = pagefinder(headers,bank_name)\n",
        "  Spider(bank_name,page_count)"
      ],
      "execution_count": null,
      "outputs": []
    },
    {
      "cell_type": "code",
      "metadata": {
        "id": "_ufsPhY9kd3M"
      },
      "source": [
        "for val in product:\n",
        "  product.remove(val)\n",
        "  val = val.strip('\\n')\n",
        "  #print(val)\n",
        "  product.append(val)"
      ],
      "execution_count": null,
      "outputs": []
    },
    {
      "cell_type": "code",
      "metadata": {
        "id": "i0zF7Fb7nP-u"
      },
      "source": [
        "for val in reviews:\n",
        "  reviews.remove(val)\n",
        "  val = val.strip('\\n')\n",
        "  #print(val)\n",
        "  reviews.append(val)"
      ],
      "execution_count": null,
      "outputs": []
    },
    {
      "cell_type": "code",
      "metadata": {
        "id": "t-Urh9saXdpJ"
      },
      "source": [
        "bank_review = pd.DataFrame(list(zip(banks,product,ratings,reviews)), columns =['Bank', 'Service','Rating','Review'])"
      ],
      "execution_count": null,
      "outputs": []
    },
    {
      "cell_type": "code",
      "metadata": {
        "id": "D7E4UTciYM7r",
        "colab": {
          "base_uri": "https://localhost:8080/",
          "height": 195
        },
        "outputId": "04f606bf-71b1-4ef3-b53c-cb0e497dce87"
      },
      "source": [
        "bank_review.head()"
      ],
      "execution_count": null,
      "outputs": [
        {
          "output_type": "execute_result",
          "data": {
            "text/html": [
              "<div>\n",
              "<style scoped>\n",
              "    .dataframe tbody tr th:only-of-type {\n",
              "        vertical-align: middle;\n",
              "    }\n",
              "\n",
              "    .dataframe tbody tr th {\n",
              "        vertical-align: top;\n",
              "    }\n",
              "\n",
              "    .dataframe thead th {\n",
              "        text-align: right;\n",
              "    }\n",
              "</style>\n",
              "<table border=\"1\" class=\"dataframe\">\n",
              "  <thead>\n",
              "    <tr style=\"text-align: right;\">\n",
              "      <th></th>\n",
              "      <th>Bank</th>\n",
              "      <th>Service</th>\n",
              "      <th>Rating</th>\n",
              "      <th>Review</th>\n",
              "    </tr>\n",
              "  </thead>\n",
              "  <tbody>\n",
              "    <tr>\n",
              "      <th>0</th>\n",
              "      <td>ing-vysya-bank</td>\n",
              "      <td>\\n\\nOther Loan</td>\n",
              "      <td>3.0</td>\n",
              "      <td>\\n                                Earlier I ha...</td>\n",
              "    </tr>\n",
              "    <tr>\n",
              "      <th>1</th>\n",
              "      <td>ing-vysya-bank</td>\n",
              "      <td>\\n\\nOther Loan</td>\n",
              "      <td>3.0</td>\n",
              "      <td>\\n                                I've a savin...</td>\n",
              "    </tr>\n",
              "    <tr>\n",
              "      <th>2</th>\n",
              "      <td>ing-vysya-bank</td>\n",
              "      <td>\\n\\nOther Loan</td>\n",
              "      <td>4.0</td>\n",
              "      <td>\\n                                Accessibilit...</td>\n",
              "    </tr>\n",
              "    <tr>\n",
              "      <th>3</th>\n",
              "      <td>ing-vysya-bank</td>\n",
              "      <td>\\n\\nOther Loan</td>\n",
              "      <td>3.0</td>\n",
              "      <td>\\n                                I hold a sav...</td>\n",
              "    </tr>\n",
              "    <tr>\n",
              "      <th>4</th>\n",
              "      <td>ing-vysya-bank</td>\n",
              "      <td>\\n\\nOther Loan</td>\n",
              "      <td>4.0</td>\n",
              "      <td>\\n                                I had the fi...</td>\n",
              "    </tr>\n",
              "  </tbody>\n",
              "</table>\n",
              "</div>"
            ],
            "text/plain": [
              "             Bank  ...                                             Review\n",
              "0  ing-vysya-bank  ...  \\n                                Earlier I ha...\n",
              "1  ing-vysya-bank  ...  \\n                                I've a savin...\n",
              "2  ing-vysya-bank  ...  \\n                                Accessibilit...\n",
              "3  ing-vysya-bank  ...  \\n                                I hold a sav...\n",
              "4  ing-vysya-bank  ...  \\n                                I had the fi...\n",
              "\n",
              "[5 rows x 4 columns]"
            ]
          },
          "metadata": {
            "tags": []
          },
          "execution_count": 21
        }
      ]
    },
    {
      "cell_type": "code",
      "metadata": {
        "colab": {
          "base_uri": "https://localhost:8080/"
        },
        "id": "TPk3Th2hKadm",
        "outputId": "3bba7dc4-5a2c-4c3b-f7a8-1b633dccbc51"
      },
      "source": [
        "bank_review.info()"
      ],
      "execution_count": null,
      "outputs": [
        {
          "output_type": "stream",
          "text": [
            "<class 'pandas.core.frame.DataFrame'>\n",
            "RangeIndex: 2580 entries, 0 to 2579\n",
            "Data columns (total 4 columns):\n",
            " #   Column   Non-Null Count  Dtype  \n",
            "---  ------   --------------  -----  \n",
            " 0   Bank     2580 non-null   object \n",
            " 1   Service  2580 non-null   object \n",
            " 2   Rating   2580 non-null   float64\n",
            " 3   Review   2580 non-null   object \n",
            "dtypes: float64(1), object(3)\n",
            "memory usage: 80.8+ KB\n"
          ],
          "name": "stdout"
        }
      ]
    },
    {
      "cell_type": "code",
      "metadata": {
        "id": "IO7OdKxRKjvR"
      },
      "source": [
        "bank_review['Rating'] = bank_review['Rating'].astype('float')"
      ],
      "execution_count": null,
      "outputs": []
    },
    {
      "cell_type": "code",
      "metadata": {
        "id": "75iX2vdfIVCx"
      },
      "source": [
        "cleaned_Service = []\n",
        "for service in bank_review.Service:\n",
        "  if service[0:1]== '\\n' :\n",
        "    service = service[2:]\n",
        "  if service[0:1]== '\\n' :\n",
        "    service = service[2: ]\n",
        "  cleaned_Service.append(service)\n",
        "\n",
        "bank_review['Service'] = cleaned_Service"
      ],
      "execution_count": null,
      "outputs": []
    },
    {
      "cell_type": "code",
      "metadata": {
        "id": "sewofzFRIq4c"
      },
      "source": [
        "bank_review['Review'] = bank_review['Review'].str.strip()"
      ],
      "execution_count": null,
      "outputs": []
    },
    {
      "cell_type": "code",
      "metadata": {
        "id": "UK-HhgbNI_qi"
      },
      "source": [
        "review_result = []\n",
        "for val in bank_review.Rating:\n",
        "  if val == 5.0:\n",
        "    review_result.append(2)\n",
        "  elif val >= 4.0 and val < 5.0 :\n",
        "    review_result.append(1)\n",
        "  else:\n",
        "    review_result.append(0)\n",
        "\n",
        "bank_review['Result'] = review_result"
      ],
      "execution_count": null,
      "outputs": []
    },
    {
      "cell_type": "code",
      "metadata": {
        "id": "NbyWLFq1kFJd"
      },
      "source": [
        "with open('banks','wb') as f:\n",
        "  pickle.dump(banks,f)\n",
        "with open('product','wb') as f:\n",
        "  pickle.dump(product,f)\n",
        "with open('ratings','wb') as f:\n",
        "  pickle.dump(ratings,f)\n",
        "with open('reviews','wb') as f:\n",
        "  pickle.dump(reviews,f)"
      ],
      "execution_count": null,
      "outputs": []
    },
    {
      "cell_type": "code",
      "metadata": {
        "id": "rmUx4J8XxsPL"
      },
      "source": [
        "bank_review.to_csv('bank_review.csv',encoding= 'UTF-8')"
      ],
      "execution_count": null,
      "outputs": []
    },
    {
      "cell_type": "code",
      "metadata": {
        "colab": {
          "base_uri": "https://localhost:8080/",
          "height": 17
        },
        "id": "rhbx9RtmoitA",
        "outputId": "294e0a5c-3520-4e7a-8f62-1f703525bc2f"
      },
      "source": [
        "from google.colab import files\n",
        "files.download('bank_review.csv')\n"
      ],
      "execution_count": null,
      "outputs": [
        {
          "output_type": "display_data",
          "data": {
            "application/javascript": [
              "\n",
              "    async function download(id, filename, size) {\n",
              "      if (!google.colab.kernel.accessAllowed) {\n",
              "        return;\n",
              "      }\n",
              "      const div = document.createElement('div');\n",
              "      const label = document.createElement('label');\n",
              "      label.textContent = `Downloading \"${filename}\": `;\n",
              "      div.appendChild(label);\n",
              "      const progress = document.createElement('progress');\n",
              "      progress.max = size;\n",
              "      div.appendChild(progress);\n",
              "      document.body.appendChild(div);\n",
              "\n",
              "      const buffers = [];\n",
              "      let downloaded = 0;\n",
              "\n",
              "      const channel = await google.colab.kernel.comms.open(id);\n",
              "      // Send a message to notify the kernel that we're ready.\n",
              "      channel.send({})\n",
              "\n",
              "      for await (const message of channel.messages) {\n",
              "        // Send a message to notify the kernel that we're ready.\n",
              "        channel.send({})\n",
              "        if (message.buffers) {\n",
              "          for (const buffer of message.buffers) {\n",
              "            buffers.push(buffer);\n",
              "            downloaded += buffer.byteLength;\n",
              "            progress.value = downloaded;\n",
              "          }\n",
              "        }\n",
              "      }\n",
              "      const blob = new Blob(buffers, {type: 'application/binary'});\n",
              "      const a = document.createElement('a');\n",
              "      a.href = window.URL.createObjectURL(blob);\n",
              "      a.download = filename;\n",
              "      div.appendChild(a);\n",
              "      a.click();\n",
              "      div.remove();\n",
              "    }\n",
              "  "
            ],
            "text/plain": [
              "<IPython.core.display.Javascript object>"
            ]
          },
          "metadata": {
            "tags": []
          }
        },
        {
          "output_type": "display_data",
          "data": {
            "application/javascript": [
              "download(\"download_ee8d3760-725f-4ec0-8c38-039e446e9a7d\", \"bank_review.csv\", 870192)"
            ],
            "text/plain": [
              "<IPython.core.display.Javascript object>"
            ]
          },
          "metadata": {
            "tags": []
          }
        }
      ]
    },
    {
      "cell_type": "code",
      "metadata": {
        "colab": {
          "base_uri": "https://localhost:8080/"
        },
        "id": "7FJhmldFos25",
        "outputId": "0c1d44e5-d440-40df-a0ad-4dbdc81f8161"
      },
      "source": [
        "!ls "
      ],
      "execution_count": null,
      "outputs": [
        {
          "output_type": "stream",
          "text": [
            "sample_data\n"
          ],
          "name": "stdout"
        }
      ]
    },
    {
      "cell_type": "code",
      "metadata": {
        "id": "dm-b2mJrpOfe"
      },
      "source": [
        ""
      ],
      "execution_count": null,
      "outputs": []
    }
  ]
}